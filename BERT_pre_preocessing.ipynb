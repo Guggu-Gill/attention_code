{
 "cells": [
  {
   "cell_type": "code",
   "execution_count": 163,
   "id": "7e26dc4f",
   "metadata": {},
   "outputs": [],
   "source": [
    "# importing necessary libraries\n",
    "import pandas as pd\n",
    "import matplotlib.pyplot as plt\n",
    "import numpy as np\n",
    "import os\n",
    "import torch\n",
    "from transformers import BertTokenizer, BertModel\n",
    "from torch.nn.parallel import DataParallel\n",
    "import seaborn as sns"
   ]
  },
  {
   "cell_type": "markdown",
   "id": "b13b1cdf",
   "metadata": {},
   "source": [
    "- this function takes array input & model specific parameters and ouputs nx1024 encodings where n is no of documents in corpus\n"
   ]
  },
  {
   "cell_type": "code",
   "execution_count": 164,
   "id": "a2171c5b",
   "metadata": {},
   "outputs": [],
   "source": [
    "def encode_text(txt_array, model_name, max_seq_length):\n",
    "    \n",
    "    #it tokenize bert for specific [CLS] and [SEP] token\n",
    "    tokenizer = BertTokenizer.from_pretrained(model_name)\n",
    "    \n",
    "    model = BertModel.from_pretrained(model_name)\n",
    "    #inililised an array\n",
    "    encoded_texts = []\n",
    "    \n",
    "    #hardware accelerator based on architecture\n",
    "    if torch.cuda.is_available():\n",
    "        device = torch.device(\"cuda\")\n",
    "        print(\"using cuda because is available\")\n",
    "    else:\n",
    "        try:\n",
    "            device=torch.device(\"mps\")\n",
    "            print(\"using mps because is available on mac\")\n",
    "        except:\n",
    "            device=torch.device(\"cpu\")\n",
    "            print(\"so sorry using cpu\")\n",
    "    \n",
    "    model = model.to(device)\n",
    "    #model parallel is for parallel computation\n",
    "    model_parallel = DataParallel(model)\n",
    "    \n",
    "    i=0\n",
    "    for text in txt_array:\n",
    "        tokens = tokenizer.encode(text, add_special_tokens=True, truncation=True, max_length=max_seq_length)\n",
    "        input_ids = torch.tensor([tokens]).to(device)\n",
    "        with torch.no_grad():\n",
    "            outputs = model_parallel(input_ids)\n",
    "            last_layer_hidden_states = outputs.last_hidden_state\n",
    "        # this performs mean pooling of last layers for entire sentence structure\n",
    "        pooled_output= torch.mean(last_layer_hidden_states, dim=1)\n",
    "        encoded_texts.append(pooled_output)\n",
    "        print(i,\"th step completed\")\n",
    "        i+=1\n",
    "    encoded_texts = torch.cat(encoded_texts, dim=0)\n",
    "    \n",
    "    return encoded_texts"
   ]
  },
  {
   "cell_type": "code",
   "execution_count": 165,
   "id": "2aab7a2a",
   "metadata": {},
   "outputs": [],
   "source": [
    "model_name = 'bert-large-uncased'\n",
    "max_seq_length = 512"
   ]
  },
  {
   "cell_type": "code",
   "execution_count": 166,
   "id": "63051a07",
   "metadata": {},
   "outputs": [],
   "source": [
    "arr=[\"Karan and Arjan are Brothers\",\"Arjan and Karan are Brothers\"]"
   ]
  },
  {
   "cell_type": "code",
   "execution_count": 167,
   "id": "b4fe0f83",
   "metadata": {},
   "outputs": [
    {
     "name": "stderr",
     "output_type": "stream",
     "text": [
      "Some weights of the model checkpoint at bert-large-uncased were not used when initializing BertModel: ['cls.seq_relationship.bias', 'cls.seq_relationship.weight', 'cls.predictions.bias', 'cls.predictions.transform.LayerNorm.bias', 'cls.predictions.transform.dense.bias', 'cls.predictions.transform.LayerNorm.weight', 'cls.predictions.transform.dense.weight']\n",
      "- This IS expected if you are initializing BertModel from the checkpoint of a model trained on another task or with another architecture (e.g. initializing a BertForSequenceClassification model from a BertForPreTraining model).\n",
      "- This IS NOT expected if you are initializing BertModel from the checkpoint of a model that you expect to be exactly identical (initializing a BertForSequenceClassification model from a BertForSequenceClassification model).\n"
     ]
    },
    {
     "name": "stdout",
     "output_type": "stream",
     "text": [
      "using mps because is available on mac\n",
      "0 th step completed\n",
      "1 th step completed\n"
     ]
    }
   ],
   "source": [
    "encoding_out=encode_text(arr, model_name, max_seq_length)"
   ]
  },
  {
   "cell_type": "code",
   "execution_count": 168,
   "id": "3dacc85c",
   "metadata": {},
   "outputs": [
    {
     "data": {
      "text/plain": [
       "tensor([[-0.2435, -0.0460, -0.1495,  ..., -0.0140,  0.1298,  0.0557],\n",
       "        [-0.3279, -0.0576, -0.1604,  ..., -0.0027,  0.1291,  0.0799]],\n",
       "       device='mps:0')"
      ]
     },
     "execution_count": 168,
     "metadata": {},
     "output_type": "execute_result"
    }
   ],
   "source": [
    "encoding_out"
   ]
  },
  {
   "cell_type": "code",
   "execution_count": 169,
   "id": "1f5c8271",
   "metadata": {},
   "outputs": [
    {
     "data": {
      "text/plain": [
       "torch.Size([2, 1024])"
      ]
     },
     "execution_count": 169,
     "metadata": {},
     "output_type": "execute_result"
    }
   ],
   "source": [
    "encoding_out.shape"
   ]
  },
  {
   "cell_type": "code",
   "execution_count": 170,
   "id": "ac0052e1",
   "metadata": {},
   "outputs": [],
   "source": [
    "correlation_matrix=np.corrcoef(encoding_out.cpu())"
   ]
  },
  {
   "cell_type": "code",
   "execution_count": 171,
   "id": "c8ca24af",
   "metadata": {},
   "outputs": [
    {
     "data": {
      "image/png": "[encoded data removed]",
      "text/plain": [
       "<Figure size 720x576 with 2 Axes>"
      ]
     },
     "metadata": {
      "needs_background": "light"
     },
     "output_type": "display_data"
    }
   ],
   "source": [
    "plt.figure(figsize=(10, 8))\n",
    "sns.heatmap(correlation_matrix, annot=True, cmap='coolwarm', linewidths=.5)\n",
    "plt.xticks(np.arange(len(arr)) + 0.5, arr, rotation=90)\n",
    "plt.yticks(np.arange(len(arr)) + 0.5, arr, rotation=0)\n",
    "\n",
    "plt.title('Correlation Matrix Heatmap')\n",
    "plt.show()\n"
   ]
  },
  {
   "cell_type": "markdown",
   "id": "3f3ad0c0",
   "metadata": {},
   "source": [
    "# Funny example 🤣\n",
    "- you look perfect tonight- Ed Sheran\n",
    "- even moon will blush after watching your beauty -Diljit Dosanjh\n",
    "- Diljit Bhajji rocks 💪"
   ]
  },
  {
   "cell_type": "code",
   "execution_count": 186,
   "id": "bbe7d493",
   "metadata": {},
   "outputs": [],
   "source": [
    "# credits ed shreen Perfect,Diljit luna\n",
    "funny=[\"you look perfect tonight\",\"even moon will blush after watching your beauty\"]"
   ]
  },
  {
   "cell_type": "code",
   "execution_count": null,
   "id": "480d9081",
   "metadata": {},
   "outputs": [],
   "source": []
  },
  {
   "cell_type": "code",
   "execution_count": 187,
   "id": "4380574f",
   "metadata": {},
   "outputs": [
    {
     "name": "stderr",
     "output_type": "stream",
     "text": [
      "Some weights of the model checkpoint at bert-large-uncased were not used when initializing BertModel: ['cls.seq_relationship.bias', 'cls.seq_relationship.weight', 'cls.predictions.bias', 'cls.predictions.transform.LayerNorm.bias', 'cls.predictions.transform.dense.bias', 'cls.predictions.transform.LayerNorm.weight', 'cls.predictions.transform.dense.weight']\n",
      "- This IS expected if you are initializing BertModel from the checkpoint of a model trained on another task or with another architecture (e.g. initializing a BertForSequenceClassification model from a BertForPreTraining model).\n",
      "- This IS NOT expected if you are initializing BertModel from the checkpoint of a model that you expect to be exactly identical (initializing a BertForSequenceClassification model from a BertForSequenceClassification model).\n"
     ]
    },
    {
     "name": "stdout",
     "output_type": "stream",
     "text": [
      "using mps because is available on mac\n",
      "0 th step completed\n",
      "1 th step completed\n"
     ]
    }
   ],
   "source": [
    "encoding_out_fun=encode_text(funny, model_name, max_seq_length)"
   ]
  },
  {
   "cell_type": "code",
   "execution_count": 188,
   "id": "7ff0919c",
   "metadata": {},
   "outputs": [
    {
     "data": {
      "text/plain": [
       "tensor([[-0.5261,  0.0696, -0.9669,  ...,  0.0357,  0.3972,  0.6767],\n",
       "        [-0.4741,  0.5278, -1.1327,  ..., -0.3532, -0.2984,  0.7804]],\n",
       "       device='mps:0')"
      ]
     },
     "execution_count": 188,
     "metadata": {},
     "output_type": "execute_result"
    }
   ],
   "source": [
    "encoding_out_fun"
   ]
  },
  {
   "cell_type": "code",
   "execution_count": 189,
   "id": "5885d83d",
   "metadata": {},
   "outputs": [],
   "source": [
    "correlation_matrix_2=np.corrcoef(encoding_out_fun.cpu())"
   ]
  },
  {
   "cell_type": "code",
   "execution_count": 190,
   "id": "f77b920c",
   "metadata": {},
   "outputs": [
    {
     "data": {
      "image/png": "[encoded data removed]",
      "text/plain": [
       "<Figure size 720x576 with 2 Axes>"
      ]
     },
     "metadata": {
      "needs_background": "light"
     },
     "output_type": "display_data"
    }
   ],
   "source": [
    "plt.figure(figsize=(10, 8))\n",
    "sns.heatmap(correlation_matrix_2, annot=True, cmap='coolwarm', linewidths=.5)\n",
    "plt.xticks(np.arange(len(funny)) + 0.5, funny, rotation=90)\n",
    "plt.yticks(np.arange(len(funny)) + 0.5, funny, rotation=0)\n",
    "\n",
    "plt.title('Correlation Matrix Heatmap')\n",
    "plt.show()\n"
   ]
  },
  {
   "cell_type": "code",
   "execution_count": null,
   "id": "29513c0c",
   "metadata": {},
   "outputs": [],
   "source": []
  },
  {
   "cell_type": "code",
   "execution_count": null,
   "id": "e76d37d3",
   "metadata": {},
   "outputs": [],
   "source": []
  }
 ],
 "metadata": {
  "kernelspec": {
   "display_name": "Python 3.9 (tensorflow)",
   "language": "python",
   "name": "tensorflow2"
  },
  "language_info": {
   "codemirror_mode": {
    "name": "ipython",
    "version": 3
   },
   "file_extension": ".py",
   "mimetype": "text/x-python",
   "name": "python",
   "nbconvert_exporter": "python",
   "pygments_lexer": "ipython3",
   "version": "3.9.10"
  }
 },
 "nbformat": 4,
 "nbformat_minor": 5
}
